{
 "cells": [
  {
   "cell_type": "markdown",
   "id": "06554477",
   "metadata": {},
   "source": [
    "Отели играют решающую роль в путешествиях, и с расширением доступа к информации появились новые способы выбора лучших.\n",
    "С помощью этого набора данных, состоящего из 20 тысяч отзывов, полученных с сайта Tripadvisor, вы можете изучить, что делает отель отличным, и, возможно, даже использовать эту модель в своих путешествиях!"
   ]
  },
  {
   "cell_type": "markdown",
   "id": "315fb0b7",
   "metadata": {},
   "source": [
    "[Датасет](https://www.kaggle.com/andrewmvd/trip-advisor-hotel-reviews)  \n",
    "&copy; Алам, М.Х., Рю, В.-Дж., Ли, С., 2016. Совместное многоплановое отношение к теме: моделирование семантических аспектов для онлайн-обзоров. Информационные науки 339, 206–223."
   ]
  },
  {
   "cell_type": "code",
   "execution_count": 1,
   "id": "b3e86261",
   "metadata": {},
   "outputs": [],
   "source": [
    "import pandas as pd\n",
    "import dill\n",
    "import numpy as np\n",
    "from sklearn.model_selection import train_test_split\n",
    "from sklearn.base import BaseEstimator, TransformerMixin\n",
    "from sklearn.linear_model import LogisticRegression\n",
    "from sklearn.metrics import confusion_matrix,accuracy_score,classification_report\n",
    "from sklearn.metrics import roc_auc_score,roc_curve\n",
    "from sklearn.metrics import f1_score\n",
    "#working with text\n",
    "from sklearn.feature_extraction.text import TfidfVectorizer\n",
    "#normalizing data\n",
    "from sklearn.preprocessing import StandardScaler\n",
    "#pipeline\n",
    "from sklearn.pipeline import Pipeline, FeatureUnion\n",
    "from sklearn.metrics import precision_score,recall_score\n",
    "#imputer\n",
    "from sklearn.impute import SimpleImputer\n",
    "\n",
    "import sklearn.datasets"
   ]
  },
  {
   "cell_type": "code",
   "execution_count": 2,
   "id": "a999f166",
   "metadata": {},
   "outputs": [],
   "source": [
    "df=pd.read_csv('tripadvisor_hotel_reviews.csv.zip')"
   ]
  },
  {
   "cell_type": "code",
   "execution_count": 3,
   "id": "662bf1c7",
   "metadata": {},
   "outputs": [
    {
     "data": {
      "text/html": [
       "<div>\n",
       "<style scoped>\n",
       "    .dataframe tbody tr th:only-of-type {\n",
       "        vertical-align: middle;\n",
       "    }\n",
       "\n",
       "    .dataframe tbody tr th {\n",
       "        vertical-align: top;\n",
       "    }\n",
       "\n",
       "    .dataframe thead th {\n",
       "        text-align: right;\n",
       "    }\n",
       "</style>\n",
       "<table border=\"1\" class=\"dataframe\">\n",
       "  <thead>\n",
       "    <tr style=\"text-align: right;\">\n",
       "      <th></th>\n",
       "      <th>Review</th>\n",
       "      <th>Rating</th>\n",
       "    </tr>\n",
       "  </thead>\n",
       "  <tbody>\n",
       "    <tr>\n",
       "      <th>0</th>\n",
       "      <td>nice hotel expensive parking got good deal sta...</td>\n",
       "      <td>4</td>\n",
       "    </tr>\n",
       "    <tr>\n",
       "      <th>1</th>\n",
       "      <td>ok nothing special charge diamond member hilto...</td>\n",
       "      <td>2</td>\n",
       "    </tr>\n",
       "    <tr>\n",
       "      <th>2</th>\n",
       "      <td>nice rooms not 4* experience hotel monaco seat...</td>\n",
       "      <td>3</td>\n",
       "    </tr>\n",
       "    <tr>\n",
       "      <th>3</th>\n",
       "      <td>unique, great stay, wonderful time hotel monac...</td>\n",
       "      <td>5</td>\n",
       "    </tr>\n",
       "    <tr>\n",
       "      <th>4</th>\n",
       "      <td>great stay great stay, went seahawk game aweso...</td>\n",
       "      <td>5</td>\n",
       "    </tr>\n",
       "    <tr>\n",
       "      <th>...</th>\n",
       "      <td>...</td>\n",
       "      <td>...</td>\n",
       "    </tr>\n",
       "    <tr>\n",
       "      <th>20486</th>\n",
       "      <td>best kept secret 3rd time staying charm, not 5...</td>\n",
       "      <td>5</td>\n",
       "    </tr>\n",
       "    <tr>\n",
       "      <th>20487</th>\n",
       "      <td>great location price view hotel great quick pl...</td>\n",
       "      <td>4</td>\n",
       "    </tr>\n",
       "    <tr>\n",
       "      <th>20488</th>\n",
       "      <td>ok just looks nice modern outside, desk staff ...</td>\n",
       "      <td>2</td>\n",
       "    </tr>\n",
       "    <tr>\n",
       "      <th>20489</th>\n",
       "      <td>hotel theft ruined vacation hotel opened sept ...</td>\n",
       "      <td>1</td>\n",
       "    </tr>\n",
       "    <tr>\n",
       "      <th>20490</th>\n",
       "      <td>people talking, ca n't believe excellent ratin...</td>\n",
       "      <td>2</td>\n",
       "    </tr>\n",
       "  </tbody>\n",
       "</table>\n",
       "<p>20491 rows × 2 columns</p>\n",
       "</div>"
      ],
      "text/plain": [
       "                                                  Review  Rating\n",
       "0      nice hotel expensive parking got good deal sta...       4\n",
       "1      ok nothing special charge diamond member hilto...       2\n",
       "2      nice rooms not 4* experience hotel monaco seat...       3\n",
       "3      unique, great stay, wonderful time hotel monac...       5\n",
       "4      great stay great stay, went seahawk game aweso...       5\n",
       "...                                                  ...     ...\n",
       "20486  best kept secret 3rd time staying charm, not 5...       5\n",
       "20487  great location price view hotel great quick pl...       4\n",
       "20488  ok just looks nice modern outside, desk staff ...       2\n",
       "20489  hotel theft ruined vacation hotel opened sept ...       1\n",
       "20490  people talking, ca n't believe excellent ratin...       2\n",
       "\n",
       "[20491 rows x 2 columns]"
      ]
     },
     "execution_count": 3,
     "metadata": {},
     "output_type": "execute_result"
    }
   ],
   "source": [
    "df"
   ]
  },
  {
   "cell_type": "markdown",
   "id": "30a2fe49",
   "metadata": {},
   "source": [
    "Целью модели будет предсказание эмоциональной окраски отзыва:  \n",
    "  0 - отрицательный(рейтинг 1-3),  \n",
    "  1  - положительный(рейтинг 4-5)"
   ]
  },
  {
   "cell_type": "code",
   "execution_count": 4,
   "id": "fef7bc88",
   "metadata": {},
   "outputs": [],
   "source": [
    "def get_sentiment(x):\n",
    "    if x<=3:\n",
    "        return 0\n",
    "    return 1\n",
    "\n",
    "df['Sentiment']=df['Rating'].apply(get_sentiment)"
   ]
  },
  {
   "cell_type": "code",
   "execution_count": 5,
   "id": "d2f138b3",
   "metadata": {},
   "outputs": [
    {
     "data": {
      "text/plain": [
       "1    15093\n",
       "0     5398\n",
       "Name: Sentiment, dtype: int64"
      ]
     },
     "execution_count": 5,
     "metadata": {},
     "output_type": "execute_result"
    }
   ],
   "source": [
    "df['Sentiment'].value_counts()"
   ]
  },
  {
   "cell_type": "markdown",
   "id": "022f42c4",
   "metadata": {},
   "source": [
    "Поле Rating можем удалить"
   ]
  },
  {
   "cell_type": "code",
   "execution_count": 6,
   "id": "39a4918e",
   "metadata": {},
   "outputs": [],
   "source": [
    "df=df.drop('Rating', axis=1)"
   ]
  },
  {
   "cell_type": "markdown",
   "id": "cc49fbd6",
   "metadata": {},
   "source": [
    "Разделим датасет на тренировочную, валидационную и тестовую выборки. И сохраним тестовую выборку на диск"
   ]
  },
  {
   "cell_type": "code",
   "execution_count": 7,
   "id": "ac66b054",
   "metadata": {},
   "outputs": [],
   "source": [
    "X_train, X_test, y_train, y_test=train_test_split(df.iloc[:,:-1], df.iloc[:,-1], test_size= 0.2, random_state=24, stratify=df['Sentiment'])\n",
    "X_test.to_csv(\"X_test.csv\", index=None)\n",
    "y_test.to_csv(\"y_test.csv\", index=None)"
   ]
  },
  {
   "cell_type": "code",
   "execution_count": 8,
   "id": "089fe3fb",
   "metadata": {},
   "outputs": [],
   "source": [
    "X_train, X_val, y_train, y_val=train_test_split(X_train, y_train, test_size= 0.25, random_state=24, stratify=y_train)"
   ]
  },
  {
   "cell_type": "code",
   "execution_count": 9,
   "id": "36531f74",
   "metadata": {},
   "outputs": [
    {
     "name": "stderr",
     "output_type": "stream",
     "text": [
      "[nltk_data] Downloading package stopwords to\n",
      "[nltk_data]     C:\\Users\\asavv\\AppData\\Roaming\\nltk_data...\n",
      "[nltk_data]   Unzipping corpora\\stopwords.zip.\n"
     ]
    }
   ],
   "source": [
    "import regex\n",
    "import string\n",
    "import nltk\n",
    "nltk.download('stopwords')\n",
    "from nltk.corpus import stopwords\n",
    "from nltk.stem.wordnet import WordNetLemmatizer\n",
    "from nltk import word_tokenize"
   ]
  },
  {
   "cell_type": "code",
   "execution_count": 15,
   "id": "2fca458a",
   "metadata": {},
   "outputs": [],
   "source": [
    "class ColumnSelector(BaseEstimator, TransformerMixin):\n",
    "    \"\"\"\n",
    "    Transformer to select a single column from the data frame to perform additional transformations on\n",
    "    \"\"\"\n",
    "    def __init__(self, key):\n",
    "        self.key = key\n",
    "\n",
    "    def fit(self, X, y=None):\n",
    "        return self\n",
    "\n",
    "    def transform(self, X):\n",
    "        return X[self.key]\n",
    "    \n",
    "class NumberSelector(BaseEstimator, TransformerMixin):\n",
    "    \"\"\"\n",
    "    Transformer to select a single column from the data frame to perform additional transformations on\n",
    "    Use on numeric columns in the data\n",
    "    \"\"\"\n",
    "    def __init__(self, key):\n",
    "        self.key = key\n",
    "\n",
    "    def fit(self, X, y=None):\n",
    "        return self\n",
    "\n",
    "    def transform(self, X):\n",
    "        return X[[self.key]]\n",
    "\n",
    "class FeatImp(BaseEstimator, TransformerMixin):\n",
    "    def __init__(self, key):\n",
    "        self.key = key\n",
    "        \n",
    "    def fit(self, X, y=None):\n",
    "        self.new_key='lenght'\n",
    "        return self\n",
    "    def transform(self, X):\n",
    "        X[self.new_key]=X[self.key].apply(lambda x: len(x.strip().split()))\n",
    "        return X\n",
    "    \n",
    "class TextLemmatizer(BaseEstimator, TransformerMixin):\n",
    "    def __init__(self, key):\n",
    "        self.key = key\n",
    "        \n",
    "    def fit(self, X, y=None):\n",
    "        self.stop_words=stopwords.words('english')\n",
    "        self.lemmatizer=WordNetLemmatizer()\n",
    "        return self\n",
    "    \n",
    "    def transform(self, X):\n",
    "        X[self.key] = X[self.key].str.replace(r\"http\\S+\", \"\")\n",
    "        X[self.key] = X[self.key].str.replace(r\"http\",\"\")\n",
    "        X[self.key] = X[self.key].str.replace(r\"@/S+\",\"\")\n",
    "        X[self.key] = X[self.key].str.replace(r\"[^A-Za-z0-9(),!?@\\'\\`\\\"\\_\\n]\", \" \")\n",
    "        X[self.key] = X[self.key].str.replace(r\"@\",\" at \")\n",
    "        X[self.key] = X[self.key].str.lower()\n",
    "        X[self.key] = X[self.key].apply(self._lemm)\n",
    "        return X\n",
    "    \n",
    "    def _lemm(self, seq):\n",
    "        # review = regex.sub('[^a-zA-Z]', ' ', seq)    \n",
    "        review = review.split()    \n",
    "        review = [word for word in review if not word in set(self.stop_words)]    \n",
    "        review = [self.lemmatizer.lemmatize(word) for word in review]    \n",
    "        review = ' '.join(review)\n",
    "        return review\n",
    "        "
   ]
  },
  {
   "cell_type": "code",
   "execution_count": 16,
   "id": "29e5d5d5",
   "metadata": {},
   "outputs": [],
   "source": [
    "from sklearn.feature_extraction.text import TfidfVectorizer"
   ]
  },
  {
   "cell_type": "code",
   "execution_count": 17,
   "id": "5eacca1c",
   "metadata": {},
   "outputs": [],
   "source": [
    "text_feat=Pipeline([\n",
    "    ('lemm', TextLemmatizer(key='Review')),\n",
    "    ('selector', ColumnSelector(key='Review')),\n",
    "    ('tfidf', TfidfVectorizer(ngram_range=(1, 3),  max_features=10000, tokenizer = word_tokenize))\n",
    "    \n",
    "])\n",
    "next_feat=Pipeline([    \n",
    "    ('selector', NumberSelector(key='lenght'))\n",
    "])"
   ]
  },
  {
   "cell_type": "code",
   "execution_count": 18,
   "id": "15071735",
   "metadata": {},
   "outputs": [],
   "source": [
    "features=FeatureUnion([\n",
    "    ('rewiew', text_feat),\n",
    "    ('lenght', next_feat)\n",
    "])"
   ]
  },
  {
   "cell_type": "code",
   "execution_count": 19,
   "id": "cbfa11d0",
   "metadata": {
    "scrolled": true
   },
   "outputs": [
    {
     "name": "stderr",
     "output_type": "stream",
     "text": [
      "C:\\Users\\asavv\\AppData\\Local\\Temp/ipykernel_94608/1716603545.py:49: FutureWarning: The default value of regex will change from True to False in a future version.\n",
      "  X[self.key] = X[self.key].str.replace(r\"http\\S+\", \"\")\n",
      "C:\\Users\\asavv\\AppData\\Local\\Temp/ipykernel_94608/1716603545.py:51: FutureWarning: The default value of regex will change from True to False in a future version.\n",
      "  X[self.key] = X[self.key].str.replace(r\"@/S+\",\"\")\n",
      "C:\\Users\\asavv\\AppData\\Local\\Temp/ipykernel_94608/1716603545.py:52: FutureWarning: The default value of regex will change from True to False in a future version.\n",
      "  X[self.key] = X[self.key].str.replace(r\"[^A-Za-z0-9(),!?@\\'\\`\\\"\\_\\n]\", \" \")\n"
     ]
    },
    {
     "name": "stdout",
     "output_type": "stream",
     "text": [
      "Wall time: 26.9 s\n"
     ]
    },
    {
     "data": {
      "text/plain": [
       "Pipeline(steps=[('imp', FeatImp(key='Review')),\n",
       "                ('feat',\n",
       "                 FeatureUnion(transformer_list=[('rewiew',\n",
       "                                                 Pipeline(steps=[('lemm',\n",
       "                                                                  TextLemmatizer(key='Review')),\n",
       "                                                                 ('selector',\n",
       "                                                                  ColumnSelector(key='Review')),\n",
       "                                                                 ('tfidf',\n",
       "                                                                  TfidfVectorizer(max_features=10000,\n",
       "                                                                                  ngram_range=(1,\n",
       "                                                                                               3),\n",
       "                                                                                  tokenizer=<function word_tokenize at 0x00000253CD037820>))])),\n",
       "                                                ('lenght',\n",
       "                                                 Pipeline(steps=[('selector',\n",
       "                                                                  NumberSelector(key='lenght'))]))])),\n",
       "                ('classifier', LogisticRegression())])"
      ]
     },
     "execution_count": 19,
     "metadata": {},
     "output_type": "execute_result"
    }
   ],
   "source": [
    "%%time\n",
    "\n",
    "model = Pipeline([('imp', FeatImp(key='Review')),\n",
    "    ('feat',features),\n",
    "    ('classifier', LogisticRegression()),\n",
    "])\n",
    "\n",
    "model.fit(X_train, y_train)"
   ]
  },
  {
   "cell_type": "code",
   "execution_count": 20,
   "id": "403c90d5",
   "metadata": {
    "scrolled": true
   },
   "outputs": [
    {
     "name": "stderr",
     "output_type": "stream",
     "text": [
      "C:\\Users\\asavv\\AppData\\Local\\Temp/ipykernel_94608/1716603545.py:49: FutureWarning: The default value of regex will change from True to False in a future version.\n",
      "  X[self.key] = X[self.key].str.replace(r\"http\\S+\", \"\")\n",
      "C:\\Users\\asavv\\AppData\\Local\\Temp/ipykernel_94608/1716603545.py:51: FutureWarning: The default value of regex will change from True to False in a future version.\n",
      "  X[self.key] = X[self.key].str.replace(r\"@/S+\",\"\")\n",
      "C:\\Users\\asavv\\AppData\\Local\\Temp/ipykernel_94608/1716603545.py:52: FutureWarning: The default value of regex will change from True to False in a future version.\n",
      "  X[self.key] = X[self.key].str.replace(r\"[^A-Za-z0-9(),!?@\\'\\`\\\"\\_\\n]\", \" \")\n"
     ]
    }
   ],
   "source": [
    "predictions=model.predict_proba(X_val)"
   ]
  },
  {
   "cell_type": "code",
   "execution_count": 21,
   "id": "2cc64e0e",
   "metadata": {},
   "outputs": [
    {
     "name": "stdout",
     "output_type": "stream",
     "text": [
      "              precision    recall  f1-score   support\n",
      "\n",
      "           0       0.90      0.70      0.79      1080\n",
      "           1       0.90      0.97      0.94      3018\n",
      "\n",
      "    accuracy                           0.90      4098\n",
      "   macro avg       0.90      0.84      0.86      4098\n",
      "weighted avg       0.90      0.90      0.90      4098\n",
      "\n",
      "[[ 761  319]\n",
      " [  80 2938]]\n"
     ]
    }
   ],
   "source": [
    "print(classification_report(y_val,np.argmax(predictions,axis=1)))\n",
    "print(confusion_matrix(y_val, np.argmax(predictions,axis=1)))"
   ]
  },
  {
   "cell_type": "code",
   "execution_count": 22,
   "id": "007124dd",
   "metadata": {},
   "outputs": [
    {
     "data": {
      "text/plain": [
       "0.9552453795744055"
      ]
     },
     "execution_count": 22,
     "metadata": {},
     "output_type": "execute_result"
    }
   ],
   "source": [
    "roc_auc_score(y_score=predictions[:, 1][:], y_true=y_val.iloc[:])"
   ]
  },
  {
   "cell_type": "markdown",
   "id": "2f225f1e",
   "metadata": {},
   "source": [
    "Результаты вполне приемлимы, сохраним модель"
   ]
  },
  {
   "cell_type": "code",
   "execution_count": 23,
   "id": "be9475a4",
   "metadata": {},
   "outputs": [],
   "source": [
    "with open(\"model.dill\", \"wb\") as f:\n",
    "    dill.dump(model, f)"
   ]
  },
  {
   "cell_type": "code",
   "execution_count": null,
   "id": "d5538c89",
   "metadata": {},
   "outputs": [],
   "source": []
  }
 ],
 "metadata": {
  "kernelspec": {
   "display_name": "Python 3 (ipykernel)",
   "language": "python",
   "name": "python3"
  },
  "language_info": {
   "codemirror_mode": {
    "name": "ipython",
    "version": 3
   },
   "file_extension": ".py",
   "mimetype": "text/x-python",
   "name": "python",
   "nbconvert_exporter": "python",
   "pygments_lexer": "ipython3",
   "version": "3.8.11"
  }
 },
 "nbformat": 4,
 "nbformat_minor": 5
}
